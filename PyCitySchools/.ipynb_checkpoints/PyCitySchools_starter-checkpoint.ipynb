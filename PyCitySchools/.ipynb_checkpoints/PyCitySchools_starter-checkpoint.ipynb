{
 "cells": [
  {
   "cell_type": "markdown",
   "metadata": {},
   "source": [
    "### Note\n",
    "* Instructions have been included for each segment. You do not have to follow them exactly, but they are included to help you think through the steps."
   ]
  },
  {
   "cell_type": "code",
   "execution_count": 1,
   "metadata": {},
   "outputs": [],
   "source": [
    "## INITIALIZE & LOAD DATA\n",
    "\n",
    "# Dependencies and Setup\n",
    "import pandas as pd\n",
    "\n",
    "# File to Load (Remember to Change These)\n",
    "school_data_to_load = \"Resources/schools_complete.csv\"\n",
    "student_data_to_load = \"Resources/students_complete.csv\"\n",
    "\n",
    "# Read School and Student Data File and store into Pandas DataFrames\n",
    "school_data = pd.read_csv(school_data_to_load)\n",
    "student_data = pd.read_csv(student_data_to_load)\n",
    "\n",
    "# Combine the data into a single dataset.  \n",
    "school_data_complete = pd.merge(student_data, school_data, how=\"left\", on=[\"school_name\", \"school_name\"])"
   ]
  },
  {
   "cell_type": "code",
   "execution_count": 16,
   "metadata": {},
   "outputs": [],
   "source": [
    "## CLEAN, ORGANIZE AND COMPACT DATA\n",
    "\n",
    "## Rename Columns\n",
    "school_data = school_data.rename(columns={\n",
    "    \"school_name\":\"School Name\",\n",
    "    \"type\":\"School Type\",\n",
    "    \"size\":\"Total Students\",\n",
    "    \"budget\":\"Total School Budget\"\n",
    "})\n",
    "\n",
    "## Rename Columns\n",
    "school_data_complete = school_data_complete.rename(columns={\n",
    "    \"student_name\":\"Student Name\",\n",
    "    \"gender\":\"Gender\",\n",
    "    \"grade\":\"Grade\",\n",
    "    \"school_name\":\"School Name\",\n",
    "    \"reading_score\":\"Reading Score\",\n",
    "    \"math_score\":\"Math Score\",\n",
    "    \"type\":\"School Type\",\n",
    "    \"size\":\"Total Students\",\n",
    "    \"budget\":\"Total School Budget\"\n",
    "})\n",
    "\n",
    "## Analysis DataFrame\n",
    "school_analysis = school_data_complete[[\n",
    "    \"Student Name\",\n",
    "    \"Gender\",\n",
    "    \"Grade\",\n",
    "    \"School Name\",\n",
    "    \"Reading Score\",\n",
    "    \"Math Score\",\n",
    "    \"School Type\"\n",
    "]]"
   ]
  },
  {
   "cell_type": "code",
   "execution_count": 17,
   "metadata": {},
   "outputs": [],
   "source": [
    "## VALIDATE MATH, READING & OVERALL PASS (BOOLEANS)\n",
    "\n",
    "math_pass = school_analysis[\"Math Score\"]>=70\n",
    "reading_pass = school_analysis[\"Reading Score\"]>=70\n",
    "overall_pass = (school_analysis[\"Reading Score\"]>=70) & (school_analysis[\"Math Score\"]>=70)\n",
    "\n",
    "school_analysis.insert(len(school_analysis.columns), \"Math Pass\", math_pass, allow_duplicates=False)\n",
    "school_analysis.insert(len(school_analysis.columns), \"Reading Pass\", reading_pass, allow_duplicates=False)\n",
    "school_analysis.insert(len(school_analysis.columns), \"Overall Pass\", overall_pass, allow_duplicates=False)"
   ]
  },
  {
   "cell_type": "markdown",
   "metadata": {},
   "source": [
    "## District Summary\n",
    "\n",
    "* Calculate the total number of schools\n",
    "\n",
    "* Calculate the total number of students\n",
    "\n",
    "* Calculate the total budget\n",
    "\n",
    "* Calculate the average math score \n",
    "\n",
    "* Calculate the average reading score\n",
    "\n",
    "* Calculate the percentage of students with a passing math score (70 or greater)\n",
    "\n",
    "* Calculate the percentage of students with a passing reading score (70 or greater)\n",
    "\n",
    "* Calculate the percentage of students who passed math **and** reading (% Overall Passing)\n",
    "\n",
    "* Create a dataframe to hold the above results\n",
    "\n",
    "* Optional: give the displayed data cleaner formatting"
   ]
  },
  {
   "cell_type": "code",
   "execution_count": 20,
   "metadata": {},
   "outputs": [
    {
     "data": {
      "text/html": [
       "<div>\n",
       "<style scoped>\n",
       "    .dataframe tbody tr th:only-of-type {\n",
       "        vertical-align: middle;\n",
       "    }\n",
       "\n",
       "    .dataframe tbody tr th {\n",
       "        vertical-align: top;\n",
       "    }\n",
       "\n",
       "    .dataframe thead th {\n",
       "        text-align: right;\n",
       "    }\n",
       "</style>\n",
       "<table border=\"1\" class=\"dataframe\">\n",
       "  <thead>\n",
       "    <tr style=\"text-align: right;\">\n",
       "      <th></th>\n",
       "      <th>Total Schools</th>\n",
       "      <th>Total Students</th>\n",
       "      <th>Total Budget</th>\n",
       "      <th>Average Math Score</th>\n",
       "      <th>Average Reading Score</th>\n",
       "      <th>% Passing Math</th>\n",
       "      <th>% Passing Reading</th>\n",
       "      <th>% Overall Passing</th>\n",
       "    </tr>\n",
       "  </thead>\n",
       "  <tbody>\n",
       "    <tr>\n",
       "      <th>0</th>\n",
       "      <td>15</td>\n",
       "      <td>39170</td>\n",
       "      <td>24649428</td>\n",
       "      <td>78.985371</td>\n",
       "      <td>81.87784</td>\n",
       "      <td>0.749809</td>\n",
       "      <td>0.858055</td>\n",
       "      <td>0.651723</td>\n",
       "    </tr>\n",
       "  </tbody>\n",
       "</table>\n",
       "</div>"
      ],
      "text/plain": [
       "   Total Schools  Total Students  Total Budget  Average Math Score  \\\n",
       "0             15           39170      24649428           78.985371   \n",
       "\n",
       "   Average Reading Score  % Passing Math  % Passing Reading  % Overall Passing  \n",
       "0               81.87784        0.749809           0.858055           0.651723  "
      ]
     },
     "execution_count": 20,
     "metadata": {},
     "output_type": "execute_result"
    }
   ],
   "source": [
    "## DISTRICT SUMMARY\n",
    "\n",
    "## 1. Compute Summary\n",
    "\n",
    "## Total number of schools\n",
    "total_schools = len(school_data[\"School Name\"])\n",
    "\n",
    "## Total number of students\n",
    "total_students = school_data[\"Total Students\"].sum()\n",
    "\n",
    "## Total budget\n",
    "total_budget = school_data[\"Total School Budget\"].sum()\n",
    "\n",
    "## Average math score\n",
    "avg_math_score = school_analysis[\"Math Score\"].mean()\n",
    "\n",
    "## Average reading score\n",
    "avg_reading_score = school_analysis[\"Reading Score\"].mean()\n",
    "\n",
    "## Percentage of students with a passing math score (70 or greater)\n",
    "pct_math_pass = school_analysis[\"Math Pass\"].sum() / total_students\n",
    "\n",
    "## Percentage of students with a passing reading score (70 or greater)\n",
    "pct_reading_pass = school_analysis[\"Reading Pass\"].sum() / total_students\n",
    "\n",
    "## Percentage of students who passed math and reading (% Overall Passing)\n",
    "pct_overall_pass = school_analysis[\"Overall Pass\"].sum() / total_students\n",
    "\n",
    "## 2. Build Data Dictionary\n",
    "\n",
    "data = {\n",
    "    \"Total Schools\": [total_schools],\n",
    "    \"Total Students\": [total_students],\n",
    "    \"Total Budget\": [total_budget],\n",
    "    \"Average Math Score\": [avg_math_score],\n",
    "    \"Average Reading Score\": [avg_reading_score],\n",
    "    \"% Passing Math\": [pct_math_pass],\n",
    "    \"% Passing Reading\": [pct_reading_pass],\n",
    "    \"% Overall Passing\": [pct_overall_pass]\n",
    "}\n",
    "\n",
    "## 3. Create Summary DataFrame\n",
    "district_summary = pd.DataFrame(data=data)\n",
    "\n",
    "## 4. Display Summary DataFrame\n",
    "district_summary"
   ]
  },
  {
   "cell_type": "markdown",
   "metadata": {},
   "source": [
    "## School Summary"
   ]
  },
  {
   "cell_type": "markdown",
   "metadata": {},
   "source": [
    "* Create an overview table that summarizes key metrics about each school, including:\n",
    "  * School Name\n",
    "  * School Type\n",
    "  * Total Students\n",
    "  * Total School Budget\n",
    "  * Per Student Budget\n",
    "  * Average Math Score\n",
    "  * Average Reading Score\n",
    "  * % Passing Math\n",
    "  * % Passing Reading\n",
    "  * % Overall Passing (The percentage of students that passed math **and** reading.)\n",
    "  \n",
    "* Create a dataframe to hold the above results"
   ]
  },
  {
   "cell_type": "code",
   "execution_count": null,
   "metadata": {},
   "outputs": [],
   "source": [
    "## SCHOOL SUMMARY\n",
    "\n",
    "## 1. Create School Summary DataFrame from school_data\n",
    "\n",
    "school_summary = school_data[[\"School Type\", \"Total Students\", \"Total School Budget\"]]\n",
    "index = school_data[\"School Name\"]\n",
    "index.name = None\n",
    "school_summary = school_summary.set_index(index, drop=True)\n",
    "\n"
   ]
  },
  {
   "cell_type": "code",
   "execution_count": null,
   "metadata": {},
   "outputs": [],
   "source": [
    "## 2. Compute and append columns\n",
    "\n",
    "## Per Student Budget\n",
    "school_summary[\"Per Student Budget\"] = school_summary[\"Total School Budget\"] / school_summary[\"Total Students\"]\n",
    "## Average Math Score\n",
    "school_summary[\"Average Math Score\"] = compact_df.groupby(\"School Name\")[\"Math Score\"].mean()\n",
    "## Average Reading Score\n",
    "school_summary[\"Average Reading Score\"] = compact_df.groupby(\"School Name\")[\"Reading Score\"].mean()\n",
    "## Passing Math Percentage\n",
    "#school_summary[\"% Passing Math\"] = compact_df.groupby(\"School Name\")[\"Math Score\"]\n",
    "## Passing Reading Percentage\n",
    "#school_summary[\"Per Student Budget\"] = \n",
    "\n",
    "##% Overall Passing Percentage (students that passed math and reading)\n",
    "#school_summary[\"Per Student Budget\"] = \n"
   ]
  },
  {
   "cell_type": "code",
   "execution_count": null,
   "metadata": {},
   "outputs": [],
   "source": [
    "math_pass = compact_df[[\"School Name\",\"Math Score\"]].loc[compact_df[\"Math Score\"]>=70]\n",
    "math_pass.groupby(\"School Name\").count() #/ school_summary[\"Total Students\"]\n",
    "\n",
    "compact_df.insert(len(compact_df.columns), \"Math Pass\", (compact_df[\"Math Score\"]>=70).array, allow_duplicates=False)\n",
    "compact_df.insert(len(compact_df.columns), \"Reading Pass\", (compact_df[\"Reading Score\"]>=70).array, allow_duplicates=False)\n",
    "compact_df.insert(len(compact_df.columns), \"Overall Pass\", ((compact_df[\"Math Score\"]>=70) & (compact_df[\"Reading Score\"]>=70)).array, allow_duplicates=False)\n"
   ]
  },
  {
   "cell_type": "code",
   "execution_count": null,
   "metadata": {},
   "outputs": [],
   "source": [
    "#compact_df.groupby(\"School Name\")[\"Passing Math\"].sum() / school_summary[\"Total Students\"]\n",
    "pass_df = pd.DataFrame({\n",
    "    \"School Name\": compact_df[\"School Name\"],\n",
    "    \"Math Pass\": (compact_df[\"Math Score\"]>=70).array,\n",
    "    \"Reading Pass\": (compact_df[\"Reading Score\"]>=70).array,\n",
    "    \"Overall Pass\": ((compact_df[\"Math Score\"]>=70) & (compact_df[\"Reading Score\"]>=70)).array\n",
    "})\n",
    "pass_df.groupby(\"School Name\")[\"Math Pass\"].sum() #/ school_summary[\"Total Students\"]"
   ]
  },
  {
   "cell_type": "code",
   "execution_count": null,
   "metadata": {},
   "outputs": [],
   "source": [
    "school_summary.sort_index(axis=0)"
   ]
  },
  {
   "cell_type": "code",
   "execution_count": null,
   "metadata": {},
   "outputs": [],
   "source": []
  },
  {
   "cell_type": "code",
   "execution_count": null,
   "metadata": {},
   "outputs": [],
   "source": [
    "compact_df"
   ]
  },
  {
   "cell_type": "code",
   "execution_count": null,
   "metadata": {},
   "outputs": [],
   "source": [
    "compact_df.groupby(\"School Name\")[\"Reading Pass\"].sum() / school_summary[\"Total Students\"] *100"
   ]
  },
  {
   "cell_type": "code",
   "execution_count": null,
   "metadata": {},
   "outputs": [],
   "source": [
    "compact_df[\"ABC Column\"] = compact_df[\"Math Score\"]>=70\n",
    "compact_df"
   ]
  },
  {
   "cell_type": "markdown",
   "metadata": {},
   "source": [
    "## Top Performing Schools (By % Overall Passing)"
   ]
  },
  {
   "cell_type": "markdown",
   "metadata": {},
   "source": [
    "* Sort and display the top five performing schools by % overall passing."
   ]
  },
  {
   "cell_type": "code",
   "execution_count": null,
   "metadata": {
    "scrolled": true
   },
   "outputs": [],
   "source": []
  },
  {
   "cell_type": "markdown",
   "metadata": {},
   "source": [
    "## Bottom Performing Schools (By % Overall Passing)"
   ]
  },
  {
   "cell_type": "markdown",
   "metadata": {},
   "source": [
    "* Sort and display the five worst-performing schools by % overall passing."
   ]
  },
  {
   "cell_type": "code",
   "execution_count": null,
   "metadata": {},
   "outputs": [],
   "source": []
  },
  {
   "cell_type": "markdown",
   "metadata": {
    "collapsed": true
   },
   "source": [
    "## Math Scores by Grade"
   ]
  },
  {
   "cell_type": "markdown",
   "metadata": {},
   "source": [
    "* Create a table that lists the average Reading Score for students of each grade level (9th, 10th, 11th, 12th) at each school.\n",
    "\n",
    "  * Create a pandas series for each grade. Hint: use a conditional statement.\n",
    "  \n",
    "  * Group each series by school\n",
    "  \n",
    "  * Combine the series into a dataframe\n",
    "  \n",
    "  * Optional: give the displayed data cleaner formatting"
   ]
  },
  {
   "cell_type": "code",
   "execution_count": null,
   "metadata": {},
   "outputs": [],
   "source": []
  },
  {
   "cell_type": "markdown",
   "metadata": {},
   "source": [
    "## Reading Score by Grade "
   ]
  },
  {
   "cell_type": "markdown",
   "metadata": {},
   "source": [
    "* Perform the same operations as above for reading scores"
   ]
  },
  {
   "cell_type": "code",
   "execution_count": null,
   "metadata": {},
   "outputs": [],
   "source": []
  },
  {
   "cell_type": "markdown",
   "metadata": {},
   "source": [
    "## Scores by School Spending"
   ]
  },
  {
   "cell_type": "markdown",
   "metadata": {},
   "source": [
    "* Create a table that breaks down school performances based on average Spending Ranges (Per Student). Use 4 reasonable bins to group school spending. Include in the table each of the following:\n",
    "  * Average Math Score\n",
    "  * Average Reading Score\n",
    "  * % Passing Math\n",
    "  * % Passing Reading\n",
    "  * Overall Passing Rate (Average of the above two)"
   ]
  },
  {
   "cell_type": "code",
   "execution_count": null,
   "metadata": {},
   "outputs": [],
   "source": []
  },
  {
   "cell_type": "markdown",
   "metadata": {},
   "source": [
    "## Scores by School Size"
   ]
  },
  {
   "cell_type": "markdown",
   "metadata": {},
   "source": [
    "* Perform the same operations as above, based on school size."
   ]
  },
  {
   "cell_type": "code",
   "execution_count": null,
   "metadata": {
    "scrolled": true
   },
   "outputs": [],
   "source": []
  },
  {
   "cell_type": "markdown",
   "metadata": {},
   "source": [
    "## Scores by School Type"
   ]
  },
  {
   "cell_type": "markdown",
   "metadata": {},
   "source": [
    "* Perform the same operations as above, based on school type"
   ]
  },
  {
   "cell_type": "code",
   "execution_count": null,
   "metadata": {},
   "outputs": [],
   "source": []
  },
  {
   "cell_type": "code",
   "execution_count": null,
   "metadata": {},
   "outputs": [],
   "source": []
  }
 ],
 "metadata": {
  "anaconda-cloud": {},
  "kernel_info": {
   "name": "python3"
  },
  "kernelspec": {
   "display_name": "Python 3",
   "language": "python",
   "name": "python3"
  },
  "language_info": {
   "codemirror_mode": {
    "name": "ipython",
    "version": 3
   },
   "file_extension": ".py",
   "mimetype": "text/x-python",
   "name": "python",
   "nbconvert_exporter": "python",
   "pygments_lexer": "ipython3",
   "version": "3.8.8"
  },
  "latex_envs": {
   "LaTeX_envs_menu_present": true,
   "autoclose": false,
   "autocomplete": true,
   "bibliofile": "biblio.bib",
   "cite_by": "apalike",
   "current_citInitial": 1,
   "eqLabelWithNumbers": true,
   "eqNumInitial": 1,
   "hotkeys": {
    "equation": "Ctrl-E",
    "itemize": "Ctrl-I"
   },
   "labels_anchors": false,
   "latex_user_defs": false,
   "report_style_numbering": false,
   "user_envs_cfg": false
  },
  "nteract": {
   "version": "0.8.4"
  }
 },
 "nbformat": 4,
 "nbformat_minor": 1
}
